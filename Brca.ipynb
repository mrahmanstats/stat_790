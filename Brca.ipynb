{
  "nbformat": 4,
  "nbformat_minor": 0,
  "metadata": {
    "colab": {
      "name": "Brca",
      "provenance": [],
      "collapsed_sections": [],
      "toc_visible": true,
      "authorship_tag": "ABX9TyNg0d0nysOMP8zpcSsUCLYG",
      "include_colab_link": true
    },
    "kernelspec": {
      "name": "python3",
      "display_name": "Python 3"
    }
  },
  "cells": [
    {
      "cell_type": "markdown",
      "metadata": {
        "id": "view-in-github",
        "colab_type": "text"
      },
      "source": [
        "<a href=\"https://colab.research.google.com/github/mrahmanstats/stat_790/blob/master/Brca.ipynb\" target=\"_parent\"><img src=\"https://colab.research.google.com/assets/colab-badge.svg\" alt=\"Open In Colab\"/></a>"
      ]
    },
    {
      "cell_type": "code",
      "metadata": {
        "id": "cuGfTs9mFKrE",
        "colab_type": "code",
        "colab": {}
      },
      "source": [
        "!pip install cox_nnet\n",
        "!pip install pysurvival\n",
        "!pip install pycox"
      ],
      "execution_count": 0,
      "outputs": []
    },
    {
      "cell_type": "code",
      "metadata": {
        "id": "_0qinGDR67Si",
        "colab_type": "code",
        "colab": {}
      },
      "source": [
        "import pandas as pd\n",
        "import tensorcox as tx\n",
        "import tensorflow as tf\n",
        "import matplotlib.pyplot as plt\n",
        "import numpy\n",
        "import pandas as pd\n",
        "from matplotlib import pyplot as plt\n",
        "from sklearn.model_selection import train_test_split\n",
        "from pysurvival.models.simulations import SimulationModel\n",
        "from pysurvival.models.semi_parametric import NonLinearCoxPHModel\n",
        "from pysurvival.utils.metrics import concordance_index\n",
        "from pysurvival.utils.display import integrated_brier_score"
      ],
      "execution_count": 0,
      "outputs": []
    },
    {
      "cell_type": "code",
      "metadata": {
        "id": "q_IMeajPDwQJ",
        "colab_type": "code",
        "colab": {}
      },
      "source": [
        "train_x = pd.read_csv('https://raw.githubusercontent.com/mrahmanstats/stat_790/master/train_x.csv')\n",
        "\n",
        "train_event = pd.read_csv('https://github.com/mrahmanstats/stat_790/raw/master/y_event.csv')\n",
        "train_event = numpy.concatenate(train_event[['os']].values)\n",
        "\n",
        "train_time = pd.read_csv('https://github.com/mrahmanstats/stat_790/raw/master/y_time.csv')\n",
        "train_time = numpy.concatenate(train_time[['os_time']].values)\n",
        "\n",
        "test_x = pd.read_csv('https://github.com/mrahmanstats/stat_790/raw/master/test_x.csv')\n",
        "\n",
        "test_event = pd.read_csv('https://github.com/mrahmanstats/stat_790/raw/master/test_event.csv')\n",
        "test_event = numpy.concatenate(test_event[['os']].values)\n",
        "\n",
        "test_time = pd.read_csv('https://github.com/mrahmanstats/stat_790/raw/master/test_time.csv')\n",
        "test_time = numpy.concatenate(test_time[['os_time']].values)"
      ],
      "execution_count": 0,
      "outputs": []
    },
    {
      "cell_type": "code",
      "metadata": {
        "id": "0cR4JhXFEAsn",
        "colab_type": "code",
        "colab": {
          "base_uri": "https://localhost:8080/",
          "height": 51
        },
        "outputId": "8a5a26ea-9469-4739-ebd3-e828cf231f7b"
      },
      "source": [
        "structure = [ {'activation': 'BentIdentity', 'num_units': 150},  ]\n",
        "nonlinear_coxph = NonLinearCoxPHModel(structure=structure)\n",
        "\n",
        "nonlinear_coxph.fit(X=train_x, T=train_time, E = train_event, lr=1e-3, init_method='xav_uniform')\n",
        "nonlinear_coxph\n",
        "\n",
        "c_index = concordance_index(nonlinear_coxph, train_x, train_time, train_event) \n",
        "print('C-index: {:.2f}'.format(c_index))\n"
      ],
      "execution_count": 19,
      "outputs": [
        {
          "output_type": "stream",
          "text": [
            "\n"
          ],
          "name": "stderr"
        },
        {
          "output_type": "stream",
          "text": [
            "C-index: 0.96\n"
          ],
          "name": "stdout"
        }
      ]
    },
    {
      "cell_type": "code",
      "metadata": {
        "id": "TgBTTZOSRS0O",
        "colab_type": "code",
        "outputId": "e8f21f7c-a182-4562-895b-6cc52c3165e8",
        "colab": {
          "base_uri": "https://localhost:8080/",
          "height": 51
        }
      },
      "source": [
        "nonlinear_coxph.fit(X=test_x, T=test_time, E = test_event, lr=1e-3, init_method='xav_uniform')\n",
        "nonlinear_coxph\n",
        "\n",
        "c_index = concordance_index(nonlinear_coxph, test_x, test_time, test_event) \n",
        "print('C-index: {:.2f}'.format(c_index))"
      ],
      "execution_count": 20,
      "outputs": [
        {
          "output_type": "stream",
          "text": [
            ""
          ],
          "name": "stderr"
        },
        {
          "output_type": "stream",
          "text": [
            "C-index: 1.00\n"
          ],
          "name": "stdout"
        },
        {
          "output_type": "stream",
          "text": [
            "\n"
          ],
          "name": "stderr"
        }
      ]
    }
  ]
}